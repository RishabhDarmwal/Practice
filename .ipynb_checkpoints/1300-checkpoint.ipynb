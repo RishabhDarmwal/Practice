{
 "cells": [
  {
   "cell_type": "code",
   "execution_count": 2,
   "id": "442f2329",
   "metadata": {},
   "outputs": [
    {
     "name": "stdout",
     "output_type": "stream",
     "text": [
      "3\n",
      "3 -1 7\n",
      "-5 2 -4\n",
      "2 -1 -3\n",
      "YES\n"
     ]
    }
   ],
   "source": [
    "#Codeforces Beta Round 63 (Div. 2) A. Young Physicist\n",
    "n=int(input())\n",
    "X,Y,Z=[],[],[]\n",
    "for i in range(n):\n",
    "    x,y,z=map(int,input().split())\n",
    "    X.append(x)\n",
    "    Y.append(y)\n",
    "    Z.append(z)\n",
    "if sum(X)==0 and sum(Y)==0 and sum(Z)==0:\n",
    "    print('YES')\n",
    "else:\n",
    "    print('NO')"
   ]
  },
  {
   "cell_type": "code",
   "execution_count": 6,
   "id": "20a8ad34",
   "metadata": {},
   "outputs": [
    {
     "name": "stdout",
     "output_type": "stream",
     "text": [
      "0 0 0 0 0\n",
      "0 0 0 0 1\n",
      "0 0 0 0 0\n",
      "0 0 0 0 0\n",
      "0 0 0 0 0\n",
      "3\n"
     ]
    }
   ],
   "source": [
    "# Codeforces Round 161 (Div. 2) A. Beautiful Matrix\n",
    "r1=list(map(int,input().split()))\n",
    "r2=list(map(int,input().split()))\n",
    "r3=list(map(int,input().split()))\n",
    "r4=list(map(int,input().split()))\n",
    "r5=list(map(int,input().split()))\n",
    "M=[r1,r2,r3,r4,r5]\n",
    "for i in range(5):\n",
    "    if 1 in M[i]:\n",
    "        a=i+1\n",
    "        b=M[i].index(1)+1\n",
    "print(abs(3-a)+abs(3-b))\n",
    "        "
   ]
  },
  {
   "cell_type": "code",
   "execution_count": 1,
   "id": "1f5c3a17",
   "metadata": {},
   "outputs": [
    {
     "name": "stdout",
     "output_type": "stream",
     "text": [
      "5 1\n",
      "BGGBG\n",
      "GBGGB\n"
     ]
    }
   ],
   "source": [
    "n,t=map(int,input().split())\n",
    "s=list(input())\n",
    "for i in range(t):\n",
    "    j=0\n",
    "    while j<n-1:\n",
    "        if s[j]=='B' and s[j+1]=='G':\n",
    "            s[j],s[j+1]=s[j+1],s[j]\n",
    "            j+=1\n",
    "        j+=1\n",
    "print(''.join(s))\n",
    "\n",
    "    \n",
    "    \n"
   ]
  },
  {
   "cell_type": "code",
   "execution_count": 23,
   "id": "a26cc297",
   "metadata": {},
   "outputs": [
    {
     "name": "stdout",
     "output_type": "stream",
     "text": [
      "-..-.--\n",
      "1012\n"
     ]
    }
   ],
   "source": [
    "s=input()\n",
    "s=s.replace('--','2')\n",
    "s=s.replace('-.','1')\n",
    "s=s.replace('.','0')\n",
    "print(s)"
   ]
  },
  {
   "cell_type": "code",
   "execution_count": 6,
   "id": "bef1c940",
   "metadata": {},
   "outputs": [
    {
     "name": "stdout",
     "output_type": "stream",
     "text": [
      "1\n"
     ]
    }
   ],
   "source": [
    "print('1')"
   ]
  },
  {
   "cell_type": "code",
   "execution_count": 32,
   "id": "67151a1f",
   "metadata": {},
   "outputs": [
    {
     "name": "stdout",
     "output_type": "stream",
     "text": [
      "2013\n",
      "2014\n"
     ]
    }
   ],
   "source": [
    "y=input()\n",
    "c=0\n",
    "y=int(y)\n",
    "while c==0:\n",
    "    y+=1\n",
    "    y=str(y)\n",
    "    y1=list(y)\n",
    "    y2=set(y)\n",
    "    if len(y1)==len(y2):\n",
    "        c==1\n",
    "        break\n",
    "    y=int(y)\n",
    "print(y)    "
   ]
  },
  {
   "cell_type": "code",
   "execution_count": 58,
   "id": "781f8022",
   "metadata": {},
   "outputs": [
    {
     "name": "stdout",
     "output_type": "stream",
     "text": [
      "1 0 1\n",
      "8 8 8\n",
      "2 0 3\n",
      "010\n",
      "011\n",
      "100\n"
     ]
    }
   ],
   "source": [
    "#lightsout\n",
    "r1=list(map(int,input().split()))\n",
    "r2=list(map(int,input().split()))\n",
    "r3=list(map(int,input().split()))\n",
    "T=[r1,r2,r3]\n",
    "def sumrem(s,t):\n",
    "    sum=0\n",
    "    if 0<=s-1:\n",
    "        sum+=T[s-1][t]%2\n",
    "    if s+1<=2:\n",
    "        sum+=T[s+1][t]%2\n",
    "    if 0<=t-1:\n",
    "        sum+=T[s][t-1]%2\n",
    "    if t+1<=2:\n",
    "        sum+=T[s][t+1]%2\n",
    "    sum+=T[s][t]%2\n",
    "    return sum%2\n",
    "    \n",
    "G=[['1','1','1'],['1','1','1'],['1','1','1']]\n",
    "for i in range(3):\n",
    "    for j in range(3):\n",
    "            if sumrem(i,j)==1:\n",
    "                G[i][j]='0'\n",
    "for p in range(3): \n",
    "    for q in range(3):\n",
    "        print(G[p][q],end='') \n",
    "    print()\n",
    "\n"
   ]
  },
  {
   "cell_type": "code",
   "execution_count": null,
   "id": "ffce7c81",
   "metadata": {},
   "outputs": [],
   "source": []
  }
 ],
 "metadata": {
  "kernelspec": {
   "display_name": "Python 3 (ipykernel)",
   "language": "python",
   "name": "python3"
  },
  "language_info": {
   "codemirror_mode": {
    "name": "ipython",
    "version": 3
   },
   "file_extension": ".py",
   "mimetype": "text/x-python",
   "name": "python",
   "nbconvert_exporter": "python",
   "pygments_lexer": "ipython3",
   "version": "3.11.5"
  }
 },
 "nbformat": 4,
 "nbformat_minor": 5
}
